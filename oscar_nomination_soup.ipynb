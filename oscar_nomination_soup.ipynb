{
 "metadata": {
  "name": "",
  "signature": "sha256:0ac47542cbc49a3cb3a84d1d9fe9959496d44c2df50e917a2cf243738ecec7a6"
 },
 "nbformat": 3,
 "nbformat_minor": 0,
 "worksheets": [
  {
   "cells": [
    {
     "cell_type": "heading",
     "level": 1,
     "metadata": {},
     "source": [
      "Main Functions"
     ]
    },
    {
     "cell_type": "code",
     "collapsed": false,
     "input": [
      "import urllib2,cookielib\n",
      "from BeautifulSoup import *\n",
      "import string\n",
      "\n",
      "# returns dict{category:[nominees]}\n",
      "def parse_site_byYear(year):\n",
      "    # download site\n",
      "    #year = 1940\n",
      "    site = 'http://www.oscars.org/oscars/ceremonies/' + str(year)\n",
      "    hdr = {'User-Agent': 'Chrome/41.0.2272.101',\n",
      "           'Accept': 'text/html,application/xhtml+xml,application/xml;q=0.9,*/*;q=0.8'}\n",
      "    req = urllib2.Request(site, headers=hdr)\n",
      "    try:\n",
      "        page = urllib2.urlopen(req)\n",
      "    except urllib2.HTTPError, e:\n",
      "        print e.fp.read()\n",
      "    html = page.read()\n",
      "\n",
      "    # initialize character/number range\n",
      "    letters = [char for char in string.ascii_uppercase]\n",
      "    chars = letters + range(10)\n",
      "\n",
      "    # parse site: get categories list and categories,actors,movies list\n",
      "    parsed_html = BeautifulSoup(html)\n",
      "    groupings_headers = parsed_html.findAll('div', attrs={'class' : 'view-grouping-header'})\n",
      "    groupings_headers = [str(strip_accents(i.text)) for i in groupings_headers]\n",
      "    lastCat = min([groupings_headers.index(L) for L in chars if L in groupings_headers] )\n",
      "    #lastCat = groupings_headers.index('A')\n",
      "    groupings_headers = groupings_headers[0:lastCat] #remove n-th academy awards header\n",
      "\n",
      "    #groupings = parsed_html.findAll('div', attrs={'class' : ['view-grouping-header','views-field views-field-field-actor-name','views-field views-field-title']})\n",
      "    groupings = parsed_html.findAll('div', attrs={'class' : ['view-grouping-header','views-field views-field-field-actor-name']})\n",
      "    groupings = [str(strip_accents(i.text)) for i in groupings]\n",
      "    lastCat = min([groupings.index(L) for L in chars if L in groupings] )\n",
      "    #lastCat = groupings.index('A')\n",
      "    groupings = groupings[0:lastCat] #remove n-th academy awards header\n",
      "\n",
      "    ### save to {category: [actors]},\n",
      "    # hash groupings_headers\n",
      "    out = {i:[] for i in groupings_headers}\n",
      "    # populate dictionary\n",
      "    category=''\n",
      "    for i in groupings:\n",
      "        #print i\n",
      "        if i in out:  # O(1) search for keys\n",
      "            category=i\n",
      "        else: # if not a category\n",
      "            out[category].append(i)\n",
      "\n",
      "    # remove non-categories\n",
      "    for i in out.keys():\n",
      "        if len(out[i])==0:\n",
      "            del out[i]\n",
      "    return out"
     ],
     "language": "python",
     "metadata": {},
     "outputs": [],
     "prompt_number": 173
    },
    {
     "cell_type": "heading",
     "level": 1,
     "metadata": {},
     "source": [
      "Support"
     ]
    },
    {
     "cell_type": "code",
     "collapsed": false,
     "input": [
      "import unicodedata\n",
      "def strip_accents(s):\n",
      "   return ''.join(c for c in unicodedata.normalize('NFD', s)\n",
      "                  if unicodedata.category(c) != 'Mn')"
     ],
     "language": "python",
     "metadata": {},
     "outputs": [],
     "prompt_number": 155
    },
    {
     "cell_type": "heading",
     "level": 1,
     "metadata": {},
     "source": [
      "Main"
     ]
    },
    {
     "cell_type": "code",
     "collapsed": false,
     "input": [
      "#Year \\t Category \\t Nominee\n",
      "byyear=''\n",
      "for i in range(1929,2015):\n",
      "    print i\n",
      "    parse = parse_site_byYear(i)\n",
      "    for j in parse.keys():\n",
      "        category = parse[j]\n",
      "        for k in category:\n",
      "            byyear += str(i)+'\\t'+j+'\\t'+k+ '\\n'\n",
      "\n",
      "f = open('nominations1929.2014.tsv','w')\n",
      "f.write(byyear) # python will convert \\n to os.linesep\n",
      "f.close() "
     ],
     "language": "python",
     "metadata": {},
     "outputs": [
      {
       "output_type": "stream",
       "stream": "stdout",
       "text": [
        "1929\n",
        "1930"
       ]
      },
      {
       "output_type": "stream",
       "stream": "stdout",
       "text": [
        "\n",
        "1931"
       ]
      },
      {
       "output_type": "stream",
       "stream": "stdout",
       "text": [
        "\n",
        "1932"
       ]
      },
      {
       "output_type": "stream",
       "stream": "stdout",
       "text": [
        "\n",
        "1933"
       ]
      },
      {
       "output_type": "stream",
       "stream": "stdout",
       "text": [
        "\n",
        "1934"
       ]
      },
      {
       "output_type": "stream",
       "stream": "stdout",
       "text": [
        "\n",
        "1935"
       ]
      },
      {
       "output_type": "stream",
       "stream": "stdout",
       "text": [
        "\n",
        "1936"
       ]
      },
      {
       "output_type": "stream",
       "stream": "stdout",
       "text": [
        "\n",
        "1937"
       ]
      },
      {
       "output_type": "stream",
       "stream": "stdout",
       "text": [
        "\n",
        "1938"
       ]
      },
      {
       "output_type": "stream",
       "stream": "stdout",
       "text": [
        "\n",
        "1939"
       ]
      },
      {
       "output_type": "stream",
       "stream": "stdout",
       "text": [
        "\n",
        "1940"
       ]
      },
      {
       "output_type": "stream",
       "stream": "stdout",
       "text": [
        "\n",
        "1941"
       ]
      },
      {
       "output_type": "stream",
       "stream": "stdout",
       "text": [
        "\n",
        "1942"
       ]
      },
      {
       "output_type": "stream",
       "stream": "stdout",
       "text": [
        "\n",
        "1943"
       ]
      },
      {
       "output_type": "stream",
       "stream": "stdout",
       "text": [
        "\n",
        "1944"
       ]
      },
      {
       "output_type": "stream",
       "stream": "stdout",
       "text": [
        "\n",
        "1945"
       ]
      },
      {
       "output_type": "stream",
       "stream": "stdout",
       "text": [
        "\n",
        "1946"
       ]
      },
      {
       "output_type": "stream",
       "stream": "stdout",
       "text": [
        "\n",
        "1947"
       ]
      },
      {
       "output_type": "stream",
       "stream": "stdout",
       "text": [
        "\n",
        "1948"
       ]
      },
      {
       "output_type": "stream",
       "stream": "stdout",
       "text": [
        "\n",
        "1949"
       ]
      },
      {
       "output_type": "stream",
       "stream": "stdout",
       "text": [
        "\n",
        "1950"
       ]
      },
      {
       "output_type": "stream",
       "stream": "stdout",
       "text": [
        "\n",
        "1951"
       ]
      },
      {
       "output_type": "stream",
       "stream": "stdout",
       "text": [
        "\n",
        "1952"
       ]
      },
      {
       "output_type": "stream",
       "stream": "stdout",
       "text": [
        "\n",
        "1953"
       ]
      },
      {
       "output_type": "stream",
       "stream": "stdout",
       "text": [
        "\n",
        "1954"
       ]
      },
      {
       "output_type": "stream",
       "stream": "stdout",
       "text": [
        "\n",
        "1955"
       ]
      },
      {
       "output_type": "stream",
       "stream": "stdout",
       "text": [
        "\n",
        "1956"
       ]
      },
      {
       "output_type": "stream",
       "stream": "stdout",
       "text": [
        "\n",
        "1957"
       ]
      },
      {
       "output_type": "stream",
       "stream": "stdout",
       "text": [
        "\n",
        "1958"
       ]
      },
      {
       "output_type": "stream",
       "stream": "stdout",
       "text": [
        "\n",
        "1959"
       ]
      },
      {
       "output_type": "stream",
       "stream": "stdout",
       "text": [
        "\n",
        "1960"
       ]
      },
      {
       "output_type": "stream",
       "stream": "stdout",
       "text": [
        "\n",
        "1961"
       ]
      },
      {
       "output_type": "stream",
       "stream": "stdout",
       "text": [
        "\n",
        "1962"
       ]
      },
      {
       "output_type": "stream",
       "stream": "stdout",
       "text": [
        "\n",
        "1963"
       ]
      },
      {
       "output_type": "stream",
       "stream": "stdout",
       "text": [
        "\n",
        "1964"
       ]
      },
      {
       "output_type": "stream",
       "stream": "stdout",
       "text": [
        "\n",
        "1965"
       ]
      },
      {
       "output_type": "stream",
       "stream": "stdout",
       "text": [
        "\n",
        "1966"
       ]
      },
      {
       "output_type": "stream",
       "stream": "stdout",
       "text": [
        "\n",
        "1967"
       ]
      },
      {
       "output_type": "stream",
       "stream": "stdout",
       "text": [
        "\n",
        "1968"
       ]
      },
      {
       "output_type": "stream",
       "stream": "stdout",
       "text": [
        "\n",
        "1969"
       ]
      },
      {
       "output_type": "stream",
       "stream": "stdout",
       "text": [
        "\n",
        "1970"
       ]
      },
      {
       "output_type": "stream",
       "stream": "stdout",
       "text": [
        "\n",
        "1971"
       ]
      },
      {
       "output_type": "stream",
       "stream": "stdout",
       "text": [
        "\n",
        "1972"
       ]
      },
      {
       "output_type": "stream",
       "stream": "stdout",
       "text": [
        "\n",
        "1973"
       ]
      },
      {
       "output_type": "stream",
       "stream": "stdout",
       "text": [
        "\n",
        "1974"
       ]
      },
      {
       "output_type": "stream",
       "stream": "stdout",
       "text": [
        "\n",
        "1975"
       ]
      },
      {
       "output_type": "stream",
       "stream": "stdout",
       "text": [
        "\n",
        "1976"
       ]
      },
      {
       "output_type": "stream",
       "stream": "stdout",
       "text": [
        "\n",
        "1977"
       ]
      },
      {
       "output_type": "stream",
       "stream": "stdout",
       "text": [
        "\n",
        "1978"
       ]
      },
      {
       "output_type": "stream",
       "stream": "stdout",
       "text": [
        "\n",
        "1979"
       ]
      },
      {
       "output_type": "stream",
       "stream": "stdout",
       "text": [
        "\n",
        "1980"
       ]
      },
      {
       "output_type": "stream",
       "stream": "stdout",
       "text": [
        "\n",
        "1981"
       ]
      },
      {
       "output_type": "stream",
       "stream": "stdout",
       "text": [
        "\n",
        "1982"
       ]
      },
      {
       "output_type": "stream",
       "stream": "stdout",
       "text": [
        "\n",
        "1983"
       ]
      },
      {
       "output_type": "stream",
       "stream": "stdout",
       "text": [
        "\n",
        "1984"
       ]
      },
      {
       "output_type": "stream",
       "stream": "stdout",
       "text": [
        "\n",
        "1985"
       ]
      },
      {
       "output_type": "stream",
       "stream": "stdout",
       "text": [
        "\n",
        "1986"
       ]
      },
      {
       "output_type": "stream",
       "stream": "stdout",
       "text": [
        "\n",
        "1987"
       ]
      },
      {
       "output_type": "stream",
       "stream": "stdout",
       "text": [
        "\n",
        "1988"
       ]
      },
      {
       "output_type": "stream",
       "stream": "stdout",
       "text": [
        "\n",
        "1989"
       ]
      },
      {
       "output_type": "stream",
       "stream": "stdout",
       "text": [
        "\n",
        "1990"
       ]
      },
      {
       "output_type": "stream",
       "stream": "stdout",
       "text": [
        "\n",
        "1991"
       ]
      },
      {
       "output_type": "stream",
       "stream": "stdout",
       "text": [
        "\n",
        "1992"
       ]
      },
      {
       "output_type": "stream",
       "stream": "stdout",
       "text": [
        "\n",
        "1993"
       ]
      },
      {
       "output_type": "stream",
       "stream": "stdout",
       "text": [
        "\n",
        "1994"
       ]
      },
      {
       "output_type": "stream",
       "stream": "stdout",
       "text": [
        "\n",
        "1995"
       ]
      },
      {
       "output_type": "stream",
       "stream": "stdout",
       "text": [
        "\n",
        "1996"
       ]
      },
      {
       "output_type": "stream",
       "stream": "stdout",
       "text": [
        "\n",
        "1997"
       ]
      },
      {
       "output_type": "stream",
       "stream": "stdout",
       "text": [
        "\n",
        "1998"
       ]
      },
      {
       "output_type": "stream",
       "stream": "stdout",
       "text": [
        "\n",
        "1999"
       ]
      },
      {
       "output_type": "stream",
       "stream": "stdout",
       "text": [
        "\n",
        "2000"
       ]
      },
      {
       "output_type": "stream",
       "stream": "stdout",
       "text": [
        "\n",
        "2001"
       ]
      },
      {
       "output_type": "stream",
       "stream": "stdout",
       "text": [
        "\n",
        "2002"
       ]
      },
      {
       "output_type": "stream",
       "stream": "stdout",
       "text": [
        "\n",
        "2003"
       ]
      },
      {
       "output_type": "stream",
       "stream": "stdout",
       "text": [
        "\n",
        "2004"
       ]
      },
      {
       "output_type": "stream",
       "stream": "stdout",
       "text": [
        "\n",
        "2005"
       ]
      },
      {
       "output_type": "stream",
       "stream": "stdout",
       "text": [
        "\n",
        "2006"
       ]
      },
      {
       "output_type": "stream",
       "stream": "stdout",
       "text": [
        "\n",
        "2007"
       ]
      },
      {
       "output_type": "stream",
       "stream": "stdout",
       "text": [
        "\n",
        "2008"
       ]
      },
      {
       "output_type": "stream",
       "stream": "stdout",
       "text": [
        "\n",
        "2009"
       ]
      },
      {
       "output_type": "stream",
       "stream": "stdout",
       "text": [
        "\n",
        "2010"
       ]
      },
      {
       "output_type": "stream",
       "stream": "stdout",
       "text": [
        "\n",
        "2011"
       ]
      },
      {
       "output_type": "stream",
       "stream": "stdout",
       "text": [
        "\n",
        "2012"
       ]
      },
      {
       "output_type": "stream",
       "stream": "stdout",
       "text": [
        "\n",
        "2013"
       ]
      },
      {
       "output_type": "stream",
       "stream": "stdout",
       "text": [
        "\n",
        "2014"
       ]
      },
      {
       "output_type": "stream",
       "stream": "stdout",
       "text": [
        "\n"
       ]
      }
     ],
     "prompt_number": 180
    },
    {
     "cell_type": "heading",
     "level": 1,
     "metadata": {},
     "source": [
      "Debug"
     ]
    },
    {
     "cell_type": "code",
     "collapsed": false,
     "input": [
      "[el.text for el in groupings]"
     ],
     "language": "python",
     "metadata": {},
     "outputs": [
      {
       "metadata": {},
       "output_type": "pyout",
       "prompt_number": 86,
       "text": [
        "[u'Actor in a Leading Role',\n",
        " u'Daniel Day Lewis',\n",
        " u'My Left Foot',\n",
        " u'Kenneth Branagh',\n",
        " u'Henry V',\n",
        " u'Tom Cruise',\n",
        " u'Born on the Fourth of July',\n",
        " u'Morgan Freeman',\n",
        " u'Driving Miss Daisy',\n",
        " u'Robin Williams',\n",
        " u'Dead Poets Society',\n",
        " u'Actor in a Supporting Role',\n",
        " u'Denzel Washington',\n",
        " u'Glory',\n",
        " u'Martin Landau',\n",
        " u'Crimes and Misdemeanors',\n",
        " u'Danny Aiello',\n",
        " u'Do the Right Thing',\n",
        " u'Dan Aykroyd',\n",
        " u'Driving Miss Daisy',\n",
        " u'Marlon Brando',\n",
        " u'A Dry White Season',\n",
        " u'Actress in a Leading Role',\n",
        " u'Jessica Tandy',\n",
        " u'Driving Miss Daisy',\n",
        " u'Isabelle Adjani',\n",
        " u'Camille Claudel',\n",
        " u'Pauline Collins',\n",
        " u'Shirley Valentine',\n",
        " u'Jessica Lange',\n",
        " u'Music Box',\n",
        " u'Michelle Pfeiffer',\n",
        " u'The Fabulous Baker Boys',\n",
        " u'Actress in a Supporting Role',\n",
        " u'Brenda Fricker',\n",
        " u'My Left Foot',\n",
        " u'Anjelica Huston',\n",
        " u'Enemies, A Love Story',\n",
        " u'Lena Olin',\n",
        " u'Enemies, A Love Story',\n",
        " u'Julia Roberts',\n",
        " u'Steel Magnolias',\n",
        " u'Dianne Wiest',\n",
        " u'Parenthood',\n",
        " u'Best Picture',\n",
        " u'Driving Miss Daisy',\n",
        " u'Richard D. Zanuck and Lili Fini Zanuck, Producers',\n",
        " u'Dead Poets Society',\n",
        " u'Steven Haft, Paul Junger Witt and Tony Thomas, Producers',\n",
        " u'Field of Dreams',\n",
        " u'Lawrence Gordon and Charles Gordon, Producers',\n",
        " u'My Left Foot',\n",
        " u'Noel Pearson, Producer',\n",
        " u'Born on the Fourth of July',\n",
        " u'A. Kitman Ho and Oliver Stone, Producers',\n",
        " u'Cinematography',\n",
        " u'Glory',\n",
        " u'Freddie Francis',\n",
        " u'The Abyss',\n",
        " u'Mikael Salomon',\n",
        " u'Blaze',\n",
        " u'Haskell Wexler',\n",
        " u'Born on the Fourth of July',\n",
        " u'Robert Richardson',\n",
        " u'The Fabulous Baker Boys',\n",
        " u'Michael Ballhaus',\n",
        " u'Costume Design',\n",
        " u'Henry V',\n",
        " u'Phyllis Dalton',\n",
        " u'The Adventures of Baron Munchausen',\n",
        " u'Gabriella Pescucci',\n",
        " u'Driving Miss Daisy',\n",
        " u'Elizabeth McBride',\n",
        " u'Harlem Nights',\n",
        " u'Joe I. Tompkins',\n",
        " u'Valmont',\n",
        " u'Theodor Pistek',\n",
        " u'Directing',\n",
        " u'Born on the Fourth of July',\n",
        " u'Oliver Stone',\n",
        " u'Crimes and Misdemeanors',\n",
        " u'Woody Allen',\n",
        " u'Dead Poets Society',\n",
        " u'Peter Weir',\n",
        " u'Henry V',\n",
        " u'Kenneth Branagh',\n",
        " u'My Left Foot',\n",
        " u'Jim Sheridan',\n",
        " u'Film Editing',\n",
        " u'Born on the Fourth of July',\n",
        " u'David Brenner, Joe Hutshing',\n",
        " u'The Bear',\n",
        " u'The Bear',\n",
        " u'Driving Miss Daisy',\n",
        " u'Mark Warner',\n",
        " u'The Fabulous Baker Boys',\n",
        " u'William Steinkamp',\n",
        " u'Glory',\n",
        " u'Steven Rosenblum',\n",
        " u'Foreign Language Film',\n",
        " u'Cinema Paradiso',\n",
        " u'Italy',\n",
        " u'Waltzing Regitze',\n",
        " u'Denmark',\n",
        " u'What Happened to Santiago',\n",
        " u'Puerto Rico',\n",
        " u'Camille Claudel',\n",
        " u'France',\n",
        " u'Jesus of Montreal',\n",
        " u'Canada',\n",
        " u'Visual Effects',\n",
        " u'The Abyss',\n",
        " u'John Bruno, Dennis Muren, Hoyt Yeatman, Dennis Skotak',\n",
        " u'The Adventures of Baron Munchausen',\n",
        " u'Richard Conway, Kent Houston',\n",
        " u'Back to the Future Part II',\n",
        " u'Ken Ralston, Michael Lantieri, John Bell, Steve Gawley',\n",
        " u'Art Direction',\n",
        " u'Batman',\n",
        " u'Art Direction: Anton Furst; Set Decoration: Peter Young',\n",
        " u'Glory',\n",
        " u'Art Direction: Norman Garwood; Set Decoration: Garrett Lewis',\n",
        " u'The Abyss',\n",
        " u'Art Direction: Leslie Dilley; Set Decoration: Anne Kuljian',\n",
        " u'The Adventures of Baron Munchausen',\n",
        " u'Art Direction: Dante Ferretti; Set Decoration: Francesca Lo Schiavo',\n",
        " u'Driving Miss Daisy',\n",
        " u'Art Direction: Bruno Rubeo; Set Decoration: Crispian Sallis',\n",
        " u'Music (Original Score)',\n",
        " u'The Little Mermaid',\n",
        " u'Alan Menken',\n",
        " u'Born on the Fourth of July',\n",
        " u'John Williams',\n",
        " u'The Fabulous Baker Boys',\n",
        " u'David Grusin',\n",
        " u'Field of Dreams',\n",
        " u'James Horner',\n",
        " u'Indiana Jones and the Last Crusade',\n",
        " u'John Williams',\n",
        " u'Documentary (Short Subject)',\n",
        " u'The Johnstown Flood',\n",
        " u'Charles Guggenheim, Producer',\n",
        " u'Fine Food, Fine Pastries, Open 6 to 9',\n",
        " u'David Petersen, Producer',\n",
        " u'Yad Vashem: Preserving the Past to Ensure the Future',\n",
        " u'Ray Errol Fox, Producer',\n",
        " u'Documentary (Feature)',\n",
        " u'Common Threads: Stories from the Quilt',\n",
        " u'Robert Epstein and Bill Couturi\\xe9, Producers',\n",
        " u'Adam Clayton Powell',\n",
        " u'Richard Kilberg and Yvonne Smith, Producers',\n",
        " u'Crack USA: County under Siege',\n",
        " u'Vince DiPersio and William Guttentag, Producers',\n",
        " u'For All Mankind',\n",
        " u'Al Reinert and Betsy Broyles Breier, Producers',\n",
        " u'Super Chief: The Life and Legacy of Earl Warren',\n",
        " u'Judith Leonard and Bill Jersey, Producers',\n",
        " u'Jean Hersholt Humanitarian Award',\n",
        " u'',\n",
        " u'Howard W. Koch',\n",
        " u'Sound',\n",
        " u'Glory',\n",
        " u'Donald O. Mitchell, Gregg C. Rudloff, Elliot Tyson, Russell Williams II',\n",
        " u'The Abyss',\n",
        " u'Don Bassman, Kevin F. Cleary, Richard Overton, Lee Orloff',\n",
        " u'Black Rain',\n",
        " u'Donald O. Mitchell, Kevin O&#039;Connell, Greg P. Russell, Keith A. Wester',\n",
        " u'Born on the Fourth of July',\n",
        " u'Michael Minkler, Gregory H. Watkins, Wylie Stateman, Tod A. Maitland',\n",
        " u'Indiana Jones and the Last Crusade',\n",
        " u'Ben Burtt, Gary Summers, Shawn Murphy, Tony Dawe',\n",
        " u'Short Film (Animated)',\n",
        " u'Balance',\n",
        " u'Christoph Lauenstein, Wolfgang Lauenstein',\n",
        " u'The Cow',\n",
        " u'Alexander Petrov',\n",
        " u'The Hill Farm',\n",
        " u'Mark Baker',\n",
        " u'Short Film (Live Action)',\n",
        " u'Work Experience',\n",
        " u'James Hendrie',\n",
        " u'Amazon Diary',\n",
        " u'Robert Nixon',\n",
        " u'The Childeater',\n",
        " u'Jonathan Tammuz',\n",
        " u'Music (Original Song)',\n",
        " u'The Little Mermaid',\n",
        " u'Under The Sea in &quot;The Little Mermaid&quot; Music by Alan Menken; Lyric by Howard Ashman',\n",
        " u'Chances Are',\n",
        " u'After All in &quot;Chances Are&quot; Music by Tom Snow; Lyric by Dean Pitchford',\n",
        " u'Shirley Valentine',\n",
        " u'The Girl Who Used To Be Me in &quot;Shirley Valentine&quot; Music by Marvin Hamlisch; Lyric by Alan Bergman and Marilyn Bergman',\n",
        " u'Parenthood',\n",
        " u'I Love To See You Smile in &quot;Parenthood&quot; Music and Lyric by Randy Newman',\n",
        " u'The Little Mermaid',\n",
        " u'Kiss The Girl in &quot;The Little Mermaid&quot; Music by Alan Menken; Lyric by Howard Ashman',\n",
        " u'Writing (Screenplay Based on Material from Another Medium)',\n",
        " u'Driving Miss Daisy',\n",
        " u'Alfred Uhry',\n",
        " u'Born on the Fourth of July',\n",
        " u'Oliver Stone, Ron Kovic',\n",
        " u'Enemies, A Love Story',\n",
        " u'Roger L. Simon, Paul Mazursky',\n",
        " u'Field of Dreams',\n",
        " u'Phil Alden Robinson',\n",
        " u'My Left Foot',\n",
        " u'Jim Sheridan, Shane Connaughton',\n",
        " u'Writing (Screenplay Written Directly for the Screen)',\n",
        " u'Dead Poets Society',\n",
        " u'Tom Schulman',\n",
        " u'Crimes and Misdemeanors',\n",
        " u'Woody Allen',\n",
        " u'Do the Right Thing',\n",
        " u'Spike Lee',\n",
        " u'sex, lies, and videotape',\n",
        " u'Steven Soderbergh',\n",
        " u'When Harry Met Sally...',\n",
        " u'Nora Ephron',\n",
        " u'Makeup',\n",
        " u'Driving Miss Daisy',\n",
        " u'Manlio Rocchetti, Lynn Barber, Kevin Haney',\n",
        " u'The Adventures of Baron Munchausen',\n",
        " u'Maggie Weston, Fabrizio Sforza',\n",
        " u'Dad',\n",
        " u'Dick Smith, Ken Diaz, Greg Nelson',\n",
        " u'Sound Effects Editing',\n",
        " u'Indiana Jones and the Last Crusade',\n",
        " u'Ben Burtt, Richard Hymns',\n",
        " u'Lethal Weapon 2',\n",
        " u'Robert Henderson, Alan Robert Murray',\n",
        " u'Black Rain',\n",
        " u'Milton C. Burrow, William L. Manger',\n",
        " u'A',\n",
        " u'The Abyss',\n",
        " u'Adam Clayton Powell',\n",
        " u'The Adventures of Baron Munchausen',\n",
        " u'Amazon Diary',\n",
        " u'B',\n",
        " u'Back to the Future Part II',\n",
        " u'Balance',\n",
        " u'Batman',\n",
        " u'The Bear',\n",
        " u'Black Rain',\n",
        " u'Blaze',\n",
        " u'Born on the Fourth of July',\n",
        " u'C',\n",
        " u'Camille Claudel',\n",
        " u'Chances Are',\n",
        " u'The Childeater',\n",
        " u'Cinema Paradiso',\n",
        " u'Common Threads: Stories from the Quilt',\n",
        " u'The Cow',\n",
        " u'Crack USA: County under Siege',\n",
        " u'Crimes and Misdemeanors',\n",
        " u'D',\n",
        " u'Dad',\n",
        " u'Dead Poets Society',\n",
        " u'Do the Right Thing',\n",
        " u'Driving Miss Daisy',\n",
        " u'A Dry White Season',\n",
        " u'E',\n",
        " u'Enemies, A Love Story',\n",
        " u'F',\n",
        " u'The Fabulous Baker Boys',\n",
        " u'Field of Dreams',\n",
        " u'Fine Food, Fine Pastries, Open 6 to 9',\n",
        " u'For All Mankind',\n",
        " u'G',\n",
        " u'Glory',\n",
        " u'H',\n",
        " u'Harlem Nights',\n",
        " u'Henry V',\n",
        " u'The Hill Farm',\n",
        " u'I',\n",
        " u'Indiana Jones and the Last Crusade',\n",
        " u'J',\n",
        " u'Jesus of Montreal',\n",
        " u'The Johnstown Flood',\n",
        " u'L',\n",
        " u'Lethal Weapon 2',\n",
        " u'The Little Mermaid',\n",
        " u'M',\n",
        " u'Music Box',\n",
        " u'My Left Foot',\n",
        " u'P',\n",
        " u'Parenthood',\n",
        " u's',\n",
        " u'sex, lies, and videotape',\n",
        " u'S',\n",
        " u'Shirley Valentine',\n",
        " u'Steel Magnolias',\n",
        " u'Super Chief: The Life and Legacy of Earl Warren',\n",
        " u'V',\n",
        " u'Valmont',\n",
        " u'W',\n",
        " u'Waltzing Regitze',\n",
        " u'What Happened to Santiago',\n",
        " u'When Harry Met Sally...',\n",
        " u'Work Experience',\n",
        " u'Y',\n",
        " u'Yad Vashem: Preserving the Past to Ensure the Future']"
       ]
      }
     ],
     "prompt_number": 86
    },
    {
     "cell_type": "code",
     "collapsed": false,
     "input": [
      "ai=range(1,1000000)\n",
      "a={i:0 for i in ai}\n",
      "for i in range(10000):\n",
      "    if not i in a:\n",
      "        print 1"
     ],
     "language": "python",
     "metadata": {},
     "outputs": [
      {
       "output_type": "stream",
       "stream": "stdout",
       "text": [
        "1\n"
       ]
      }
     ],
     "prompt_number": 96
    },
    {
     "cell_type": "code",
     "collapsed": false,
     "input": [
      "out"
     ],
     "language": "python",
     "metadata": {},
     "outputs": [
      {
       "metadata": {},
       "output_type": "pyout",
       "prompt_number": 171,
       "text": [
        "{'Actor': ['Robert Donat',\n",
        "  'Mickey Rooney',\n",
        "  'James Stewart',\n",
        "  'Clark Gable',\n",
        "  'Laurence Olivier'],\n",
        " 'Actor in a Supporting Role': ['Thomas Mitchell',\n",
        "  'Brian Aherne',\n",
        "  'Harry Carey',\n",
        "  'Brian Donlevy',\n",
        "  'Claude Rains'],\n",
        " 'Actress': ['Vivien Leigh',\n",
        "  'Bette Davis',\n",
        "  'Irene Dunne',\n",
        "  'Greta Garbo',\n",
        "  'Greer Garson'],\n",
        " 'Actress in a Supporting Role': ['Hattie McDaniel',\n",
        "  'Maria Ouspenskaya',\n",
        "  'Olivia de Havilland',\n",
        "  'Geraldine Fitzgerald',\n",
        "  'Edna May Oliver'],\n",
        " 'Art Direction': ['Gone with the Wind',\n",
        "  'Beau Geste',\n",
        "  'Captain Fury',\n",
        "  'First Love',\n",
        "  'Love Affair',\n",
        "  'Man of Conquest',\n",
        "  'Mr. Smith Goes to Washington',\n",
        "  'The Private Lives of Elizabeth and Essex',\n",
        "  'The Rains Came',\n",
        "  'Stagecoach',\n",
        "  'The Wizard of Oz',\n",
        "  'Wuthering Heights'],\n",
        " 'Cinematography (Black-and-White)': ['Wuthering Heights', 'Stagecoach'],\n",
        " 'Cinematography (Color)': ['Gone with the Wind',\n",
        "  'The Private Lives of Elizabeth and Essex'],\n",
        " 'Directing': ['Gone with the Wind',\n",
        "  'Goodbye, Mr. Chips',\n",
        "  'Mr. Smith Goes to Washington',\n",
        "  'Stagecoach',\n",
        "  'Wuthering Heights'],\n",
        " 'Film Editing': ['Gone with the Wind',\n",
        "  'Goodbye, Mr. Chips',\n",
        "  'Mr. Smith Goes to Washington',\n",
        "  'The Rains Came',\n",
        "  'Stagecoach'],\n",
        " 'Irving G. Thalberg Memorial Award': [''],\n",
        " 'Music (Original Score)': ['The Wizard of Oz',\n",
        "  'The Man in the Iron Mask',\n",
        "  'Man of Conquest',\n",
        "  'Nurse Edith Cavell',\n",
        "  'Of Mice and Men',\n",
        "  'The Rains Came',\n",
        "  'Wuthering Heights',\n",
        "  'Dark Victory',\n",
        "  'Eternally Yours',\n",
        "  'Golden Boy',\n",
        "  'Gone with the Wind',\n",
        "  \"Gulliver's Travels\"],\n",
        " 'Music (Scoring)': ['Stagecoach',\n",
        "  'Swanee River',\n",
        "  'They Shall Have Music',\n",
        "  'Way Down South',\n",
        "  'Babes in Arms',\n",
        "  'First Love',\n",
        "  'The Great Victor Herbert',\n",
        "  'The Hunchback of Notre Dame',\n",
        "  'Intermezzo',\n",
        "  'Mr. Smith Goes to Washington',\n",
        "  'Of Mice and Men',\n",
        "  'The Private Lives of Elizabeth and Essex',\n",
        "  'She Married a Cop'],\n",
        " 'Music (Song)': ['The Wizard of Oz',\n",
        "  \"Gulliver's Travels\",\n",
        "  'Second Fiddle',\n",
        "  'Love Affair'],\n",
        " 'Outstanding Production': ['Gone with the Wind',\n",
        "  'The Wizard of Oz',\n",
        "  'Wuthering Heights',\n",
        "  'Dark Victory',\n",
        "  'Goodbye, Mr. Chips',\n",
        "  'Love Affair',\n",
        "  'Mr. Smith Goes to Washington',\n",
        "  'Ninotchka',\n",
        "  'Of Mice and Men',\n",
        "  'Stagecoach'],\n",
        " 'Short Subject (Cartoon)': ['The Ugly Duckling',\n",
        "  'Detouring America',\n",
        "  'Peace on Earth',\n",
        "  'The Pointer'],\n",
        " 'Short Subject (One-reel)': ['Busy Little Bears',\n",
        "  'Information Please',\n",
        "  'Prophet without Honor',\n",
        "  'Sword Fishing'],\n",
        " 'Short Subject (Two-reel)': ['Sons of Liberty',\n",
        "  'Drunk Driving',\n",
        "  'Five Times Five'],\n",
        " 'Sound Recording': ['When Tomorrow Comes',\n",
        "  'The Great Victor Herbert',\n",
        "  'The Hunchback of Notre Dame',\n",
        "  'Man of Conquest',\n",
        "  'Mr. Smith Goes to Washington',\n",
        "  'Of Mice and Men',\n",
        "  'The Private Lives of Elizabeth and Essex',\n",
        "  'The Rains Came',\n",
        "  'Balalaika',\n",
        "  'Gone with the Wind',\n",
        "  'Goodbye, Mr. Chips'],\n",
        " 'Special Award': ['Gone with the Wind'],\n",
        " 'Special Effects': ['The Rains Came',\n",
        "  'Gone with the Wind',\n",
        "  'Only Angels Have Wings',\n",
        "  'The Private Lives of Elizabeth and Essex',\n",
        "  'Topper Takes a Trip',\n",
        "  'Union Pacific',\n",
        "  'The Wizard of Oz'],\n",
        " 'Writing (Original Story)': ['Mr. Smith Goes to Washington',\n",
        "  'Love Affair',\n",
        "  'Ninotchka',\n",
        "  'Young Mr. Lincoln',\n",
        "  'Bachelor Mother'],\n",
        " 'Writing (Screenplay)': ['Gone with the Wind',\n",
        "  'Goodbye, Mr. Chips',\n",
        "  'Mr. Smith Goes to Washington',\n",
        "  'Ninotchka',\n",
        "  'Wuthering Heights']}"
       ]
      }
     ],
     "prompt_number": 171
    }
   ],
   "metadata": {}
  }
 ]
}